{
 "cells": [
  {
   "cell_type": "markdown",
   "metadata": {},
   "source": [
    "# Diabetic Retinopathy Part 0: Data Acquisition\n",
    "#### Author: Sean Flannery [sflanner@purdue.edu](sflanner@purdue.edu)\n",
    "Last updated: April 21, 2019"
   ]
  },
  {
   "cell_type": "markdown",
   "metadata": {},
   "source": [
    "This portion of work was partially inspired by the useful resources found at this tutorial: [https://machinelearningmastery.com/how-to-load-convert-and-save-images-with-the-keras-api/](https://machinelearningmastery.com/how-to-load-convert-and-save-images-with-the-keras-api/)"
   ]
  },
  {
   "cell_type": "code",
   "execution_count": 1,
   "metadata": {},
   "outputs": [
    {
     "name": "stderr",
     "output_type": "stream",
     "text": [
      "Using TensorFlow backend.\n"
     ]
    }
   ],
   "source": [
    "import tensorflow as tf\n",
    "import keras\n",
    "import numpy as np\n",
    "import os\n",
    "import pandas as pd"
   ]
  },
  {
   "cell_type": "markdown",
   "metadata": {},
   "source": [
    "We need to import the necessary preprocessing functions to convert our image to a numpy array quickly."
   ]
  },
  {
   "cell_type": "code",
   "execution_count": 2,
   "metadata": {},
   "outputs": [],
   "source": [
    "from keras.preprocessing.image import load_img, save_img\n",
    "from keras.preprocessing.image import img_to_array, array_to_img\n",
    "from PIL import Image"
   ]
  },
  {
   "cell_type": "markdown",
   "metadata": {},
   "source": [
    "Originally, these are immensely high-quality images. However, we have limited resources on a laptop,n and thus are gonna shrink them down to size a bit."
   ]
  },
  {
   "cell_type": "code",
   "execution_count": 3,
   "metadata": {},
   "outputs": [],
   "source": [
    "DESIRED_PIXEL_WIDTH =500"
   ]
  },
  {
   "cell_type": "code",
   "execution_count": null,
   "metadata": {},
   "outputs": [],
   "source": [
    "def resizeImg(filename):\n",
    "    new_width = DESIRED_PIXEL_WIDTH\n",
    "    img = Image.open(filename)\n",
    "    ratio = new_width/(img.size[0] *1.0)\n",
    "    new_height = int(img.size[1]*ratio)\n",
    "    img = img.resize((new_width,new_height), Image.ANTIALIAS)\n",
    "    return img"
   ]
  },
  {
   "cell_type": "markdown",
   "metadata": {},
   "source": [
    "We want to navigate over the raw images we've been given of retinal scans, and put them somewhere more accessible."
   ]
  },
  {
   "cell_type": "code",
   "execution_count": null,
   "metadata": {},
   "outputs": [],
   "source": [
    "def convertTrainImgToNumpy(file_id):\n",
    "    file = os.getcwd() + '/original-images-disease-grades/train/'\n",
    "    file += 'IDRiD_' + str(file_id + 1000)[1:] + '.jpg' \n",
    "    return img_to_array(resizeImg(file))\n",
    "def convertTestImgToNumpy(file_id):\n",
    "    file = os.getcwd() + '/original-images-disease-grades/test/'\n",
    "    file += 'IDRiD_' + str(file_id + 1000)[1:] + '.jpg' \n",
    "    return img_to_array(resizeImg(file))"
   ]
  },
  {
   "cell_type": "markdown",
   "metadata": {},
   "source": [
    "In order to speed up our analysis, we will also import the multiprocessing packages of Python to enable simultaneous analysis. We will also include tqdm to enable us to track the progress of parsing data."
   ]
  },
  {
   "cell_type": "code",
   "execution_count": null,
   "metadata": {},
   "outputs": [],
   "source": [
    "from multiprocessing import Pool\n",
    "from tqdm import tqdm_notebook as tqdm"
   ]
  },
  {
   "cell_type": "code",
   "execution_count": null,
   "metadata": {},
   "outputs": [
    {
     "data": {
      "application/vnd.jupyter.widget-view+json": {
       "model_id": "9f8bfa0b97964ee9b2c41f82242dabfd",
       "version_major": 2,
       "version_minor": 0
      },
      "text/plain": [
       "HBox(children=(IntProgress(value=0, max=413), HTML(value='')))"
      ]
     },
     "metadata": {},
     "output_type": "display_data"
    }
   ],
   "source": [
    "entry_range = list(range(1,414,1))\n",
    "with Pool(20) as p:\n",
    "    train_list = list(tqdm(p.imap(convertTrainImgToNumpy, entry_range), total=len(entry_range)))"
   ]
  },
  {
   "cell_type": "code",
   "execution_count": null,
   "metadata": {},
   "outputs": [],
   "source": [
    "entry_range = list(range(1,104,1))\n",
    "with Pool(20) as p:\n",
    "    test_list = list(tqdm(p.imap(convertTestImgToNumpy, entry_range), total=len(entry_range)))"
   ]
  },
  {
   "cell_type": "markdown",
   "metadata": {},
   "source": [
    "Now, we are interested in storing our images for later pre-processing in the Part 1 notebook! We shall save them in the part1 folder as `xtrain.npy` and `xtest.npy`. "
   ]
  },
  {
   "cell_type": "code",
   "execution_count": null,
   "metadata": {},
   "outputs": [],
   "source": [
    "xtrain_file = os.getcwd() + '/part1/xtrain.npy'\n",
    "train_np = np.array(train_list, 'float32')\n",
    "np.save(xtrain_file, train_np)"
   ]
  },
  {
   "cell_type": "code",
   "execution_count": null,
   "metadata": {},
   "outputs": [],
   "source": [
    "xtest_file = os.getcwd() + '/part1/xtest.npy'\n",
    "test_np = np.array(test_list, 'float32')\n",
    "np.save(xtest_file, test_np)"
   ]
  },
  {
   "cell_type": "markdown",
   "metadata": {},
   "source": [
    "Now, we want to save our y-values from groundtruths as well."
   ]
  },
  {
   "cell_type": "code",
   "execution_count": null,
   "metadata": {},
   "outputs": [],
   "source": [
    "y_train_data = np.genfromtxt(os.getcwd() + '/original-images-disease-grades/groundtruths/training_labels.csv', delimiter=',', skip_header=1, encoding='utf-8')\n",
    "y_train = np.array(y_train_data[:, [1,2]], dtype='int32')\n",
    "ytrain_file = os.getcwd() + '/part1/ytrain.npy'\n",
    "np.save(ytrain_file, y_train)"
   ]
  },
  {
   "cell_type": "code",
   "execution_count": null,
   "metadata": {},
   "outputs": [],
   "source": [
    "y_test_data = np.genfromtxt(os.getcwd() + '/original-images-disease-grades/groundtruths/test_labels.csv', delimiter=',', skip_header=1, encoding='utf-8')\n",
    "y_test = np.array(y_test_data[:, [1,2]], dtype='int32')\n",
    "ytest_file = os.getcwd() + '/part1/ytest.npy'\n",
    "np.save(ytest_file, y_test)"
   ]
  },
  {
   "cell_type": "markdown",
   "metadata": {},
   "source": [
    "This notebook is continued in Part 1: Pre-Processing"
   ]
  }
 ],
 "metadata": {
  "kernelspec": {
   "display_name": "Python 3",
   "language": "python",
   "name": "python3"
  },
  "language_info": {
   "codemirror_mode": {
    "name": "ipython",
    "version": 3
   },
   "file_extension": ".py",
   "mimetype": "text/x-python",
   "name": "python",
   "nbconvert_exporter": "python",
   "pygments_lexer": "ipython3",
   "version": "3.7.0"
  }
 },
 "nbformat": 4,
 "nbformat_minor": 2
}
